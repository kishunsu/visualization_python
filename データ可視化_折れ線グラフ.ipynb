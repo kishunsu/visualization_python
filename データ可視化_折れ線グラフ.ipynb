{
 "cells": [
  {
   "cell_type": "markdown",
   "metadata": {},
   "source": [
    "## データの可視化について\n",
    "## 折れ線グラフ編\n",
    "\n"
   ]
  },
  {
   "cell_type": "markdown",
   "metadata": {},
   "source": [
    "ガスセンサーの時系列データ（https://archive.ics.uci.edu/ml/machine-learning-databases/00309/ ）である  \n",
    "以下のコードでは、CSVファイルとしてダウンロードしたデータをPandasのDataFrameとして読み込んでいる"
   ]
  },
  {
   "cell_type": "code",
   "execution_count": 28,
   "metadata": {},
   "outputs": [],
   "source": [
    "import pandas as pd\n",
    "sensor_df = pd.read_csv('./input/000_Et_H_CO_n.csv') # データセットの読み込み\n",
    "sensor_df.columns = ['Time', 'Temperature', 'Relative Humidity', 'Sensor1', 'Sensor2', 'Sensor3', 'Sensor4', 'Sensor5', 'Sensor6', 'Sensor7', 'Sensor8'] # 列名を付与"
   ]
  },
  {
   "cell_type": "code",
   "execution_count": 29,
   "metadata": {},
   "outputs": [
    {
     "data": {
      "text/html": [
       "<div>\n",
       "<style scoped>\n",
       "    .dataframe tbody tr th:only-of-type {\n",
       "        vertical-align: middle;\n",
       "    }\n",
       "\n",
       "    .dataframe tbody tr th {\n",
       "        vertical-align: top;\n",
       "    }\n",
       "\n",
       "    .dataframe thead th {\n",
       "        text-align: right;\n",
       "    }\n",
       "</style>\n",
       "<table border=\"1\" class=\"dataframe\">\n",
       "  <thead>\n",
       "    <tr style=\"text-align: right;\">\n",
       "      <th></th>\n",
       "      <th>Time</th>\n",
       "      <th>Temperature</th>\n",
       "      <th>Relative Humidity</th>\n",
       "      <th>Sensor1</th>\n",
       "      <th>Sensor2</th>\n",
       "      <th>Sensor3</th>\n",
       "      <th>Sensor4</th>\n",
       "      <th>Sensor5</th>\n",
       "      <th>Sensor6</th>\n",
       "      <th>Sensor7</th>\n",
       "      <th>Sensor8</th>\n",
       "    </tr>\n",
       "  </thead>\n",
       "  <tbody>\n",
       "    <tr>\n",
       "      <th>0</th>\n",
       "      <td>1.94</td>\n",
       "      <td>22.46</td>\n",
       "      <td>40.7</td>\n",
       "      <td>331.0</td>\n",
       "      <td>274.0</td>\n",
       "      <td>518.0</td>\n",
       "      <td>572.0</td>\n",
       "      <td>565.0</td>\n",
       "      <td>700.0</td>\n",
       "      <td>630.0</td>\n",
       "      <td>719.0</td>\n",
       "    </tr>\n",
       "    <tr>\n",
       "      <th>1</th>\n",
       "      <td>1.96</td>\n",
       "      <td>22.46</td>\n",
       "      <td>40.7</td>\n",
       "      <td>331.0</td>\n",
       "      <td>274.0</td>\n",
       "      <td>519.0</td>\n",
       "      <td>572.0</td>\n",
       "      <td>566.0</td>\n",
       "      <td>700.0</td>\n",
       "      <td>629.0</td>\n",
       "      <td>719.0</td>\n",
       "    </tr>\n",
       "    <tr>\n",
       "      <th>2</th>\n",
       "      <td>1.98</td>\n",
       "      <td>22.46</td>\n",
       "      <td>40.7</td>\n",
       "      <td>331.0</td>\n",
       "      <td>274.0</td>\n",
       "      <td>518.0</td>\n",
       "      <td>572.0</td>\n",
       "      <td>566.0</td>\n",
       "      <td>700.0</td>\n",
       "      <td>629.0</td>\n",
       "      <td>719.0</td>\n",
       "    </tr>\n",
       "    <tr>\n",
       "      <th>3</th>\n",
       "      <td>2.00</td>\n",
       "      <td>22.46</td>\n",
       "      <td>40.7</td>\n",
       "      <td>331.0</td>\n",
       "      <td>274.0</td>\n",
       "      <td>518.0</td>\n",
       "      <td>571.0</td>\n",
       "      <td>566.0</td>\n",
       "      <td>700.0</td>\n",
       "      <td>630.0</td>\n",
       "      <td>719.0</td>\n",
       "    </tr>\n",
       "    <tr>\n",
       "      <th>4</th>\n",
       "      <td>2.02</td>\n",
       "      <td>22.46</td>\n",
       "      <td>40.7</td>\n",
       "      <td>331.0</td>\n",
       "      <td>274.0</td>\n",
       "      <td>518.0</td>\n",
       "      <td>571.0</td>\n",
       "      <td>565.0</td>\n",
       "      <td>701.0</td>\n",
       "      <td>630.0</td>\n",
       "      <td>718.0</td>\n",
       "    </tr>\n",
       "  </tbody>\n",
       "</table>\n",
       "</div>"
      ],
      "text/plain": [
       "   Time  Temperature  Relative Humidity  Sensor1  Sensor2  Sensor3  Sensor4  \\\n",
       "0  1.94        22.46               40.7    331.0    274.0    518.0    572.0   \n",
       "1  1.96        22.46               40.7    331.0    274.0    519.0    572.0   \n",
       "2  1.98        22.46               40.7    331.0    274.0    518.0    572.0   \n",
       "3  2.00        22.46               40.7    331.0    274.0    518.0    571.0   \n",
       "4  2.02        22.46               40.7    331.0    274.0    518.0    571.0   \n",
       "\n",
       "   Sensor5  Sensor6  Sensor7  Sensor8  \n",
       "0    565.0    700.0    630.0    719.0  \n",
       "1    566.0    700.0    629.0    719.0  \n",
       "2    566.0    700.0    629.0    719.0  \n",
       "3    566.0    700.0    630.0    719.0  \n",
       "4    565.0    701.0    630.0    718.0  "
      ]
     },
     "execution_count": 29,
     "metadata": {},
     "output_type": "execute_result"
    }
   ],
   "source": [
    "sensor_df.head()"
   ]
  },
  {
   "cell_type": "markdown",
   "metadata": {},
   "source": [
    "- Time\t時間（秒）\n",
    "- Temperature\t温度（℃）\n",
    "- Relative Humidity\t湿度（%）\n",
    "- Sensor1\tガスセンサー1で取得した値\n",
    "- Sensor2\tガスセンサー2で取得した値\n",
    "- Sensor3\tガスセンサー3で取得した値\n",
    "- Sensor4\tガスセンサー4で取得した値\n",
    "- Sensor5\tガスセンサー5で取得した値\n",
    "- Sensor6\tガスセンサー6で取得した値\n",
    "- Sensor7\tガスセンサー7で取得した値\n",
    "- Sensor8\tガスセンサー8で取得した値"
   ]
  },
  {
   "cell_type": "markdown",
   "metadata": {},
   "source": [
    "### 折れ線グラフによるデータの可視化"
   ]
  },
  {
   "cell_type": "markdown",
   "metadata": {},
   "source": [
    "#### pandas.DataFrame.plotを用いた場合"
   ]
  },
  {
   "cell_type": "code",
   "execution_count": 32,
   "metadata": {},
   "outputs": [
    {
     "data": {
      "text/plain": [
       "<matplotlib.axes._subplots.AxesSubplot at 0x7ff9eeecb470>"
      ]
     },
     "execution_count": 32,
     "metadata": {},
     "output_type": "execute_result"
    },
    {
     "data": {
      "image/png": "[encoded data removed]",
      "text/plain": [
       "<Figure size 432x288 with 1 Axes>"
      ]
     },
     "metadata": {
      "needs_background": "light"
     },
     "output_type": "display_data"
    }
   ],
   "source": [
    "sensor_df.plot(x='Time',y='Sensor1') #x軸,y軸の設定"
   ]
  },
  {
   "cell_type": "markdown",
   "metadata": {},
   "source": [
    "【参考】  \n",
    "pandas.DataFrame.plotについて(公式):https://pandas.pydata.org/pandas-docs/stable/reference/api/pandas.DataFrame.plot.html#pandas.DataFrame.plot"
   ]
  },
  {
   "cell_type": "markdown",
   "metadata": {},
   "source": [
    "#### matplotlibを用いた場合"
   ]
  },
  {
   "cell_type": "code",
   "execution_count": 30,
   "metadata": {},
   "outputs": [
    {
     "data": {
      "image/png": "[encoded data removed]",
      "text/plain": [
       "<Figure size 432x288 with 1 Axes>"
      ]
     },
     "metadata": {
      "needs_background": "light"
     },
     "output_type": "display_data"
    }
   ],
   "source": [
    "import matplotlib.pyplot as plt\n",
    "plt.plot(sensor_df['Time'], sensor_df['Sensor1']) # 折れ線グラフをプロット(x軸,y軸の設定)\n",
    "\n",
    "plt.title('Transition of Sensor1 value')          # 図のタイトル\n",
    "plt.xlabel('Time (s)')                            # x軸のラベル\n",
    "plt.ylabel('Value')                               # y軸のラベル\n",
    "\n",
    "plt.show()                                        # 図の表示"
   ]
  },
  {
   "cell_type": "markdown",
   "metadata": {},
   "source": [
    "【参考】  \n",
    "matplotlib.pyplot.plotについて(公式):https://matplotlib.org/api/_as_gen/matplotlib.pyplot.plot.html"
   ]
  },
  {
   "cell_type": "code",
   "execution_count": 35,
   "metadata": {},
   "outputs": [
    {
     "data": {
      "text/plain": [
       "<matplotlib.axes._subplots.AxesSubplot at 0x7ff9ee340d68>"
      ]
     },
     "execution_count": 35,
     "metadata": {},
     "output_type": "execute_result"
    },
    {
     "data": {
      "image/png": "[encoded data removed]",
      "text/plain": [
       "<Figure size 432x288 with 1 Axes>"
      ]
     },
     "metadata": {
      "needs_background": "light"
     },
     "output_type": "display_data"
    }
   ],
   "source": [
    "import seaborn as sns\n",
    "sns.lineplot('Time','Sensor1',data=sensor_df) # 折れ線グラフをプロット(x軸,y軸の設定)"
   ]
  },
  {
   "cell_type": "markdown",
   "metadata": {},
   "source": [
    "【参考】  \n",
    "seaborn.lineplotについて(公式)https://seaborn.pydata.org/generated/seaborn.lineplot.html"
   ]
  }
 ],
 "metadata": {
  "kernelspec": {
   "display_name": "Python 3",
   "language": "python",
   "name": "python3"
  },
  "language_info": {
   "codemirror_mode": {
    "name": "ipython",
    "version": 3
   },
   "file_extension": ".py",
   "mimetype": "text/x-python",
   "name": "python",
   "nbconvert_exporter": "python",
   "pygments_lexer": "ipython3",
   "version": "3.6.5"
  }
 },
 "nbformat": 4,
 "nbformat_minor": 2
}
